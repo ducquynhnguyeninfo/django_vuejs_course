{
 "cells": [
  {
   "attachments": {},
   "cell_type": "markdown",
   "metadata": {},
   "source": [
    "Setup environment"
   ]
  },
  {
   "cell_type": "code",
   "execution_count": null,
   "metadata": {
    "vscode": {
     "languageId": "shellscript"
    }
   },
   "outputs": [],
   "source": [
    "python3 -m venv venv # setup environment\n",
    "source venv/bin/activate # activate environment\n",
    "pip install django # install django framework\n",
    "pip install djangorestframework # install django rest framework"
   ]
  },
  {
   "attachments": {},
   "cell_type": "markdown",
   "metadata": {},
   "source": [
    "Create a new project name `newsapi`"
   ]
  },
  {
   "cell_type": "code",
   "execution_count": null,
   "metadata": {
    "vscode": {
     "languageId": "shellscript"
    }
   },
   "outputs": [],
   "source": [
    "django-admin startproject newsapi"
   ]
  },
  {
   "attachments": {},
   "cell_type": "markdown",
   "metadata": {},
   "source": [
    "Create new app name `news`"
   ]
  },
  {
   "cell_type": "code",
   "execution_count": null,
   "metadata": {
    "vscode": {
     "languageId": "shellscript"
    }
   },
   "outputs": [],
   "source": [
    "python manage.py startapp news"
   ]
  },
  {
   "attachments": {},
   "cell_type": "markdown",
   "metadata": {},
   "source": [
    "Add the app name into the `INSTALLED_APPS` array in `newsapi/settings.py` file"
   ]
  },
  {
   "cell_type": "code",
   "execution_count": null,
   "metadata": {},
   "outputs": [],
   "source": [
    "# Application definition\n",
    "\n",
    "INSTALLED_APPS = [\n",
    "    'django.contrib.admin',\n",
    "    'django.contrib.auth',\n",
    "    'django.contrib.contenttypes',\n",
    "    'django.contrib.sessions',\n",
    "    'django.contrib.messages',\n",
    "    'django.contrib.staticfiles',\n",
    "    \n",
    "    'news'\n",
    "]"
   ]
  },
  {
   "attachments": {},
   "cell_type": "markdown",
   "metadata": {},
   "source": [
    "Add new class in `news/models.py` file\n"
   ]
  },
  {
   "cell_type": "code",
   "execution_count": null,
   "metadata": {},
   "outputs": [],
   "source": [
    "from django.db import models\n",
    "# Create your models here.\n",
    "class Article(models.Model):\n",
    "    author = models.CharField(max_length=50)\n",
    "    title = models.CharField(max_length=120)\n",
    "    description = models.CharField(max_length=200)\n",
    "    body = models.TextField()\n",
    "    location = models.CharField(max_length=120)\n",
    "    publication_date = models.DateField()\n",
    "    active = models.BooleanField(default=True)\n",
    "    created_at = models.DateTimeField(auto_now_add=True)\n",
    "    updated_at = models.DateTimeField(auto_now=True)\n",
    "    \n",
    "    def __str__(self) -> str:\n",
    "        return  f\"{self.author} {self.title}\"\n",
    "    "
   ]
  },
  {
   "attachments": {},
   "cell_type": "markdown",
   "metadata": {},
   "source": [
    "Run the commands to make migrations in database"
   ]
  },
  {
   "cell_type": "code",
   "execution_count": null,
   "metadata": {
    "vscode": {
     "languageId": "shellscript"
    }
   },
   "outputs": [],
   "source": [
    "python manage.py makemigrations\n",
    "python manage.py migrate"
   ]
  },
  {
   "attachments": {},
   "cell_type": "markdown",
   "metadata": {},
   "source": [
    "Run command to create super user and setup `superuser account` in `admin page`\n",
    "Command will create a `admin.py` file  in `news` folder"
   ]
  },
  {
   "cell_type": "code",
   "execution_count": null,
   "metadata": {
    "vscode": {
     "languageId": "shellscript"
    }
   },
   "outputs": [],
   "source": [
    "python manage.py createsuperuser # command will create a `admin.py` file  in `news` folder"
   ]
  },
  {
   "attachments": {},
   "cell_type": "markdown",
   "metadata": {},
   "source": [
    "In `news/admin.py` add following code to register our models to `admin page`"
   ]
  },
  {
   "cell_type": "code",
   "execution_count": null,
   "metadata": {
    "vscode": {
     "languageId": "shellscript"
    }
   },
   "outputs": [],
   "source": [
    "from newsapi.news import models\n",
    "\n",
    "# Register your models here.\n",
    "admin.site.register(models.Article)"
   ]
  },
  {
   "attachments": {},
   "cell_type": "markdown",
   "metadata": {
    "vscode": {
     "languageId": "shellscript"
    }
   },
   "source": [
    "Create new folder `api`, and new file `serializers.py`. Add these content to the file"
   ]
  },
  {
   "cell_type": "code",
   "execution_count": null,
   "metadata": {},
   "outputs": [],
   "source": [
    "from rest_framework import serializers\n",
    "from news.models import Article\n",
    "\n",
    "class ArticleSerializer(serializers.Serializer):\n",
    "    id = serializers.IntegerField(read_only=True)\n",
    "    author = serializers.CharField()\n",
    "    title = serializers.CharField()\n",
    "    description = serializers.CharField()\n",
    "    body = serializers.CharField()\n",
    "    location = serializers.CharField()\n",
    "    publication_date = serializers.DateField()\n",
    "    active = serializers.BooleanField()\n",
    "    created_at = serializers.DateTimeField(read_only=True)\n",
    "    updated_at = serializers.DateTimeField(read_only=True)\n",
    "    \n",
    "    \n",
    "    def create(self, validated_data):\n",
    "        print(validated_data)\n",
    "        Article.objects.create(**validated_data)\n",
    "    \n",
    "    def update(self, instance, validated_data):\n",
    "        instance.author = validated_data.get('author', instance.author)\n",
    "        instance.title = validated_data.get('author', instance.title)\n",
    "        instance.description = validated_data.get('description', instance.description)\n",
    "        instance.location = validated_data.get('location', instance.location)\n",
    "        instance.publication_date = validated_data.get('publication_date', instance.publication_date)\n",
    "        instance.active = validated_data.get('active', instance.active)\n",
    "        instance.created_at = validated_data.get('created_at', instance.created_at)\n",
    "        instance.updated_at = validated_data.get('updated_at', instance.updated_at)\n",
    "        instance.save()\n",
    "        \n",
    "        return instance"
   ]
  },
  {
   "attachments": {},
   "cell_type": "markdown",
   "metadata": {
    "vscode": {
     "languageId": "shellscript"
    }
   },
   "source": [
    "Now, we use `shell` to interact with models"
   ]
  },
  {
   "cell_type": "code",
   "execution_count": null,
   "metadata": {
    "vscode": {
     "languageId": "shellscript"
    }
   },
   "outputs": [],
   "source": [
    "python manage.py shell"
   ]
  },
  {
   "cell_type": "raw",
   "metadata": {},
   "source": [
    "Python 3.9.6 (default, Sep 26 2022, 11:37:49) \n",
    "[Clang 14.0.0 (clang-1400.0.29.202)] on darwin\n",
    "Type \"help\", \"copyright\", \"credits\" or \"license\" for more information.\n",
    "(InteractiveConsole)\n",
    ">>> from news.models import Article\n",
    ">>> from news.api.serializers import ArticleSerializer\n",
    ">>> article_intance = Article.objects.first()\n",
    ">>> article_intance\n",
    "<Article: La Quán Trung Tam quốc diễn nghĩa>\n",
    ">>> serializer = ArticleSerializer(article_intance)\n",
    ">>> serializer\n",
    "ArticleSerializer(<Article: La Quán Trung Tam quốc diễn nghĩa>):\n",
    "    id = IntegerField(read_only=True)\n",
    "    author = CharField()\n",
    "    title = CharField()\n",
    "    description = CharField()\n",
    "    body = CharField()\n",
    "    location = CharField()\n",
    "    publication_date = DateField()\n",
    "    active = BooleanField()\n",
    "    created_at = DateTimeField(read_only=True)\n",
    "    updated_at = DateTimeField(read_only=True)\n",
    ">>> serializer.data\n",
    "{'id': 1, 'author': 'La Quán Trung', 'title': 'Tam quốc diễn nghĩa', 'description': 'lịch sử', 'body': 'lịch sử Trung Quốc', 'location': 'Trung Quốc', 'publication_date': '1926-03-03', 'active': True, 'created_at': '2023-06-13T03:33:01.568573Z', 'updated_at': '2023-06-13T03:34:42.840304Z'}\n",
    ">>> from rest_framework.renderers import JSONRenderer\n",
    ">>> json = JSONRenderer().render(serializer.data)\n",
    ">>> json\n",
    "b'{\"id\":1,\"author\":\"La Qu\\xc3\\xa1n Trung\",\"title\":\"Tam qu\\xe1\\xbb\\x91c di\\xe1\\xbb\\x85n ngh\\xc4\\xa9a\",\"description\":\"l\\xe1\\xbb\\x8bch s\\xe1\\xbb\\xad\",\"body\":\"l\\xe1\\xbb\\x8bch s\\xe1\\xbb\\xad Trung Qu\\xe1\\xbb\\x91c\",\"location\":\"Trung Qu\\xe1\\xbb\\x91c\",\"publication_date\":\"1926-03-03\",\"active\":true,\"created_at\":\"2023-06-13T03:33:01.568573Z\",\"updated_at\":\"2023-06-13T03:34:42.840304Z\"}'\n",
    ">>> import io\n",
    ">>> from rest_framework.parsers import JSONParser\n",
    ">>> stream = io.BytesIO(json)\n",
    ">>> stream\n",
    "<_io.BytesIO object at 0x10af1b590>\n",
    ">>> data = JSONParser().parse(stream)\n",
    ">>> data\n",
    "{'id': 1, 'author': 'La Quán Trung', 'title': 'Tam quốc diễn nghĩa', 'description': 'lịch sử', 'body': 'lịch sử Trung Quốc', 'location': 'Trung Quốc', 'publication_date': '1926-03-03', 'active': True, 'created_at': '2023-06-13T03:33:01.568573Z', 'updated_at': '2023-06-13T03:34:42.840304Z'}\n",
    ">>> serializer = ArticleSerializer(data=data)\n",
    ">>> serializer\n",
    "ArticleSerializer(data={'id': 1, 'author': 'La Quán Trung', 'title': 'Tam quốc diễn nghĩa', 'description': 'lịch sử', 'body': 'lịch sử Trung Quốc', 'location': 'Trung Quốc', 'publication_date': '1926-03-03', 'active': True, 'created_at': '2023-06-13T03:33:01.568573Z', 'updated_at': '2023-06-13T03:34:42.840304Z'}):\n",
    "    id = IntegerField(read_only=True)\n",
    "    author = CharField()\n",
    "    title = CharField()\n",
    "    description = CharField()\n",
    "    body = CharField()\n",
    "    location = CharField()\n",
    "    publication_date = DateField()\n",
    "    active = BooleanField()\n",
    "    created_at = DateTimeField(read_only=True)\n",
    "    updated_at = DateTimeField(read_only=True)\n",
    ">>> serializer.is_valid()\n",
    "True\n",
    ">>> serializer.validated_data\n",
    "OrderedDict([('author', 'La Quán Trung'), ('title', 'Tam quốc diễn nghĩa'), ('description', 'lịch sử'), ('body', 'lịch sử Trung Quốc'), ('location', 'Trung Quốc'), ('publication_date', datetime.date(1926, 3, 3)), ('active', True)])\n",
    ">>> serializer.save()\n",
    "{'author': 'La Quán Trung', 'title': 'Tam quốc diễn nghĩa', 'description': 'lịch sử', 'body': 'lịch sử Trung Quốc', 'location': 'Trung Quốc', 'publication_date': datetime.date(1926, 3, 3), 'active': True}\n",
    "<Article: La Quán Trung Tam quốc diễn nghĩa>\n",
    ">>> Article.objects.values()\n",
    "<QuerySet [{'id': 1, 'author': 'La Quán Trung', 'title': 'Tam quốc diễn nghĩa', 'description': 'lịch sử', 'body': 'lịch sử Trung Quốc', 'location': 'Trung Quốc', 'publication_date': datetime.date(1926, 3, 3), 'active': True, 'created_at': datetime.datetime(2023, 6, 13, 3, 33, 1, 568573, tzinfo=datetime.timezone.utc), 'updated_at': datetime.datetime(2023, 6, 13, 3, 34, 42, 840304, tzinfo=datetime.timezone.utc)}, {'id': 2, 'author': 'Conan Doyle', 'title': 'Sherlock Holmes', 'description': 'Detective Novel', 'body': 'Detective Novel body', 'location': 'London, England', 'publication_date': datetime.date(1926, 3, 3), 'active': True, 'created_at': datetime.datetime(2023, 6, 13, 3, 35, 42, 498423, tzinfo=datetime.timezone.utc), 'updated_at': datetime.datetime(2023, 6, 13, 3, 35, 42, 498477, tzinfo=datetime.timezone.utc)}, {'id': 3, 'author': 'La Quán Trung', 'title': 'Tam quốc diễn nghĩa', 'description': 'lịch sử', 'body': 'lịch sử Trung Quốc', 'location': 'Trung Quốc', 'publication_date': datetime.date(1926, 3, 3), 'active': True, 'created_at': datetime.datetime(2023, 6, 13, 4, 26, 11, 278412, tzinfo=datetime.timezone.utc), 'updated_at': datetime.datetime(2023, 6, 13, 4, 26, 11, 278472, tzinfo=datetime.timezone.utc)}, {'id': 4, 'author': 'La Quán Trung', 'title': 'Tam quốc diễn nghĩa', 'description': 'lịch sử', 'body': 'lịch sử Trung Quốc', 'location': 'Trung Quốc', 'publication_date': datetime.date(1926, 3, 3), 'active': True, 'created_at': datetime.datetime(2023, 6, 13, 4, 28, 10, 138160, tzinfo=datetime.timezone.utc), 'updated_at': datetime.datetime(2023, 6, 13, 4, 28, 10, 138195, tzinfo=datetime.timezone.utc)}, {'id': 5, 'author': 'La Quán Trung', 'title': 'Tam quốc diễn nghĩa', 'description': 'lịch sử', 'body': 'lịch sử Trung Quốc', 'location': 'Trung Quốc', 'publication_date': datetime.date(1926, 3, 3), 'active': True, 'created_at': datetime.datetime(2023, 6, 13, 4, 36, 56, 165587, tzinfo=datetime.timezone.utc), 'updated_at': datetime.datetime(2023, 6, 13, 4, 36, 56, 165643, tzinfo=datetime.timezone.utc)}]>"
   ]
  },
  {
   "attachments": {},
   "cell_type": "markdown",
   "metadata": {},
   "source": [
    "Add `rest_framework` to `newsapi/newsapi/settings.py` `INSTALLED_APPS`"
   ]
  },
  {
   "cell_type": "code",
   "execution_count": null,
   "metadata": {
    "vscode": {
     "languageId": "shellscript"
    }
   },
   "outputs": [],
   "source": [
    "\n",
    "# Application definition\n",
    "\n",
    "INSTALLED_APPS = [\n",
    "    'django.contrib.admin',\n",
    "    'django.contrib.auth',\n",
    "    'django.contrib.contenttypes',\n",
    "    'django.contrib.sessions',\n",
    "    'django.contrib.messages',\n",
    "    'django.contrib.staticfiles',\n",
    "    \n",
    "    'news',\n",
    "    'rest_framework'\n",
    "]"
   ]
  },
  {
   "attachments": {},
   "cell_type": "markdown",
   "metadata": {},
   "source": [
    "Create new file `views.py` in `api` folder,  using `@api_view` decorator to indicate the method on api"
   ]
  },
  {
   "cell_type": "code",
   "execution_count": null,
   "metadata": {},
   "outputs": [],
   "source": [
    "# views.py\n",
    "from rest_framework import status\n",
    "from rest_framework.decorators import api_view\n",
    "from rest_framework.response import Response\n",
    "\n",
    "from news.models import Article\n",
    "from news.api.serializers import ArticleSerializer\n",
    "\n",
    "@api_view([\"GET\", \"POST\"])\n",
    "def article_list_create_api_view(request):\n",
    "    if request.method == \"GET\":\n",
    "        articles = Article.objects.filter(active=True)\n",
    "        serializer = ArticleSerializer(articles, many=True)\n",
    "        return Response(serializer.data)\n",
    "    \n",
    "    elif request.method == \"POST\":\n",
    "        serializer = ArticleSerializer(data=request.data)\n",
    "        if serializer.is_valid():\n",
    "            serializer.save()\n",
    "            return Response(serializer.data, status=status.HTTP_201_CREATED)\n",
    "        return Response(serializer.errors, status=status.HTTP_400_BAD_REQUEST)\n"
   ]
  },
  {
   "attachments": {},
   "cell_type": "markdown",
   "metadata": {},
   "source": [
    "Create new file `urls.py` in `api` folder"
   ]
  },
  {
   "cell_type": "code",
   "execution_count": null,
   "metadata": {},
   "outputs": [],
   "source": [
    "# urls.py\n",
    "from django.urls import path\n",
    "from news.api.views import article_list_create_api_view\n",
    "\n",
    "urlpatterns = [\n",
    "    path(\"articles/\", article_list_create_api_view, name=\"article-list\")\n",
    "    \n",
    "]\n"
   ]
  },
  {
   "attachments": {},
   "cell_type": "markdown",
   "metadata": {},
   "source": [
    "Add new line `path(\"api/\", include(\"news.api.urls\"))` into `urlpatterns` of `newsapi/newsapi/urls.py`, then it will become:"
   ]
  },
  {
   "cell_type": "code",
   "execution_count": null,
   "metadata": {},
   "outputs": [],
   "source": [
    "urlpatterns = [\n",
    "    path('admin/', admin.site.urls),\n",
    "    path(\"api/\", include(\"news.api.urls\"))\n",
    "]\n"
   ]
  },
  {
   "attachments": {},
   "cell_type": "markdown",
   "metadata": {},
   "source": [
    "Let check the result in `http://127.0.0.1:8000/api/articles`"
   ]
  },
  {
   "attachments": {},
   "cell_type": "markdown",
   "metadata": {},
   "source": [
    "\n",
    "Now, add function to handle detail action `GET`, `PUT`, `DELETE`. Add following code to bottom of file `news/api/views.py`"
   ]
  },
  {
   "cell_type": "code",
   "execution_count": null,
   "metadata": {},
   "outputs": [],
   "source": [
    "\n",
    "@api_view([\"GET\", \"PUT\", \"DELETE\"])\n",
    "def article_detail_api_view(request, pk):\n",
    "    try:\n",
    "        article = Article.objects.get(pk=pk)\n",
    "    except Article.DoesNotExist:\n",
    "        return Response({\"error\": {\n",
    "            \"code\": 404,\n",
    "            \"message\": \"Article not found!\"\n",
    "        }}, status=status.HTTP_404_NOT_FOUND)\n",
    "    if request.method == \"GET\":\n",
    "        serializer = ArticleSerializer(article)\n",
    "        return Response(serializer.data)\n",
    "    elif request.method == \"PUT\":\n",
    "        serializer = ArticleSerializer(article, data=request.data)\n",
    "        if (serializer.is_valid()):\n",
    "            serializer.save()\n",
    "            return Response(serializer.data)\n",
    "        return Response(serializer.data, status=status.HTTP_404_NOT_FOUND)\n",
    "    elif request.method == \"DELETE\":\n",
    "        article.delete()\n",
    "        return Response(serializer.data, status=status.HTTP_204_NO_CONTENT)\n",
    "        "
   ]
  },
  {
   "attachments": {},
   "cell_type": "markdown",
   "metadata": {},
   "source": [
    "Add new path ` path(\"articles/<int:pk>\", article_detail_api_view, name=\"article-detail\")` to handle new method to `api/urls.py` file"
   ]
  },
  {
   "cell_type": "code",
   "execution_count": null,
   "metadata": {},
   "outputs": [],
   "source": [
    "\n",
    "urlpatterns = [\n",
    "    path(\"articles/\", article_list_create_api_view, name=\"article-list\"),\n",
    "    path(\"articles/<int:pk>\", article_detail_api_view, name=\"article-detail\"),\n",
    "    \n",
    "]"
   ]
  },
  {
   "attachments": {},
   "cell_type": "markdown",
   "metadata": {},
   "source": [
    "Now we  can use `ApiView` class to handle those apis separately in class, instead of methods. <br/>\n",
    "In `api/views.py` we import "
   ]
  },
  {
   "cell_type": "code",
   "execution_count": null,
   "metadata": {},
   "outputs": [],
   "source": [
    "from rest_framework.views import APIView\n",
    "from rest_framework.generics import get_object_or_404"
   ]
  },
  {
   "attachments": {},
   "cell_type": "markdown",
   "metadata": {},
   "source": [
    "Add below code right below the file `api/views.py` "
   ]
  },
  {
   "cell_type": "code",
   "execution_count": null,
   "metadata": {},
   "outputs": [],
   "source": [
    "\n",
    "class ArticleListApiView(APIView):\n",
    "    def get(self, request):\n",
    "        articles = Article.objects.filter(active=True)\n",
    "        serializer = ArticleSerializer(articles, many=True)\n",
    "        return Response(serializer.data)\n",
    "    \n",
    "    def post(self, request):\n",
    "        serializer = ArticleSerializer(data=request.data)\n",
    "        if serializer.is_valid():\n",
    "            serializer.save()\n",
    "            return Response(serializer.data, status=status.HTTP_201_CREATED)\n",
    "        return Response(serializer.errors, status=status.HTTP_400_BAD_REQUEST)\n",
    "    \n",
    "    \n",
    "class ArticleDetailApiView(APIView):\n",
    "    def get_object(self, pk) -> Article:\n",
    "        article = get_object_or_404(Article, pk=pk)\n",
    "        return article\n",
    "    \n",
    "    def get(self, request, pk):\n",
    "        article = self.get_object(pk=pk)\n",
    "        serializer = ArticleSerializer(article)\n",
    "        \n",
    "        return Response(serializer.data)\n",
    "    \n",
    "    def put(self, request, pk):\n",
    "        article = self.get_object(pk)\n",
    "        serializer = ArticleSerializer(article, data=request.data)\n",
    "        if serializer.is_valid():\n",
    "            serializer.save()\n",
    "            return Response(serializer.data)\n",
    "        return Response(serializer.errors, status=status.HTTP_400_BAD_REQUEST)\n",
    "    \n",
    "    def delete(self, request, pk):\n",
    "        article = self.get_object(pk)\n",
    "        article.delete()\n",
    "        return Response(status=status.HTTP_204_NO_CONTENT)\n",
    "        "
   ]
  },
  {
   "attachments": {},
   "cell_type": "markdown",
   "metadata": {},
   "source": [
    "In `api/urls.py` we comment out the methods `article_list_create_api_view, article_detail_api_view` and using the classes api:"
   ]
  },
  {
   "cell_type": "code",
   "execution_count": null,
   "metadata": {},
   "outputs": [],
   "source": [
    "\n",
    "urlpatterns = [\n",
    "    # path(\"articles/\", article_list_create_api_view, name=\"article-list\"),\n",
    "    # path(\"articles/<int:pk>\", article_detail_api_view, name=\"article-detail\"),\n",
    "    path(\"articles/\", ArticleListApiView.as_view(), name=\"article-list\"),\n",
    "    path(\"articles/<int:pk>\", ArticleDetailApiView.as_view(), name=\"article-detail\"),\n",
    "    \n",
    "]\n"
   ]
  },
  {
   "attachments": {},
   "cell_type": "markdown",
   "metadata": {},
   "source": [
    "Now we'll implement <h3>`Validation`</h3> to our apis. Import this to class `ArticleSerializer`. <br/>\n"
   ]
  },
  {
   "cell_type": "code",
   "execution_count": null,
   "metadata": {},
   "outputs": [],
   "source": [
    "       \n",
    "def validate(self, data):\n",
    "    \"\"\"check that description and title are different\n",
    "\n",
    "    Args:\n",
    "        data (_type_): _description_\n",
    "    \"\"\"\n",
    "    \n",
    "    if data[\"title\"] == data[\"description\"]:\n",
    "        raise serializers.ValidationError(\"Title and Description must be different from one another.\")\n",
    "    return data\n",
    "\n",
    "def validate_title(self, value):\n",
    "    if len(value) < 60:\n",
    "        raise serializers.ValidationError(\"Title must be at least 60 characters .\") \n",
    "    return value + \"_validated_\""
   ]
  },
  {
   "attachments": {},
   "cell_type": "markdown",
   "metadata": {},
   "source": [
    "The `def validate(self, data)` method, is the  validator of whole class `ArticleSerializer`.<br> On the other hand, `def validate_title(self, value)` is the validator of only `title` property. <br> Both these methods are built-in by `rest_framework`"
   ]
  },
  {
   "attachments": {},
   "cell_type": "markdown",
   "metadata": {},
   "source": [
    "Next, <h3>`ModelSerializer`</h3>\n",
    "Instead of using above methods, we can use `ModelSerializer` class to speed up the Validation implementation.<br>\n",
    "Replace `ArticleSerializer` with a new version of itself."
   ]
  },
  {
   "cell_type": "code",
   "execution_count": null,
   "metadata": {},
   "outputs": [],
   "source": [
    "\n",
    "class ArticleSerializer(serializers.ModelSerializer):\n",
    "    class Meta:\n",
    "        model = Article\n",
    "        # fields = \"__all__\" # we want all the fields of our model to be serialized\n",
    "        # fields = (\"title\", \"description\") # we want only some of fields of our model to be serialized\n",
    "        exclude = (\"id\") # we want to serialize all of fields except \"id\"\n"
   ]
  },
  {
   "attachments": {},
   "cell_type": "markdown",
   "metadata": {},
   "source": [
    "We can add additional field to the Serializer class, so the `ArticleSerializer` can have a new field, separated from the origin `Article` class.<br>\n",
    "After add the new field `time_since_publication` the class would be like this."
   ]
  },
  {
   "cell_type": "code",
   "execution_count": null,
   "metadata": {},
   "outputs": [],
   "source": [
    "from datetime import datetime\n",
    "from django.utils.timesince import timesince\n",
    "\n",
    "class ArticleSerializer(serializers.ModelSerializer):\n",
    "    \n",
    "    time_since_publication = serializers.SerializerMethodField(method_name=\"since_publication\")\n",
    "    \n",
    "    class Meta:\n",
    "        model = Article\n",
    "        # fields = \"__all__\" # we want all the fields of our model to be serialized\n",
    "        # fields = (\"title\", \"description\") # we want only some of fields of our model to be serialized\n",
    "        exclude = (\"id\",) # we want to serialize all of fields except \"id\"\n",
    "\n",
    "    def since_publication(self, object: Article) -> str: \n",
    "        publication_date = object.publication_date\n",
    "        now = datetime.now()\n",
    "        time_data = timesince(publication_date, now)\n",
    "        return time_data\n",
    "    "
   ]
  },
  {
   "attachments": {},
   "cell_type": "markdown",
   "metadata": {},
   "source": [
    "Next, we'll deal with the <h3>`Nested Relationships`</h3> objects. In `news/models.py` we create class `Journalist`."
   ]
  },
  {
   "cell_type": "code",
   "execution_count": null,
   "metadata": {},
   "outputs": [],
   "source": [
    "class Journalist(models.Model):\n",
    "    first_name = models.CharField(max_length=60)\n",
    "    last_name = models.CharField(max_length=60)\n",
    "    biography = models.TextField(blank=True)\n",
    "    \n",
    "    \n",
    "    def __str__(self) -> str:\n",
    "        return f\"{self.first_name} {self.last_name}\""
   ]
  },
  {
   "attachments": {},
   "cell_type": "markdown",
   "metadata": {},
   "source": [
    "Update the `Article` class on `author` property:"
   ]
  },
  {
   "cell_type": "code",
   "execution_count": null,
   "metadata": {},
   "outputs": [],
   "source": [
    "...\n",
    "class Article(models.Model):\n",
    "    author = models.ForeignKey(Journalist, \n",
    "                               on_delete=models.CASCADE, \n",
    "                               related_name=\"articles\")\n",
    "    ..."
   ]
  },
  {
   "attachments": {},
   "cell_type": "markdown",
   "metadata": {},
   "source": [
    "In `news/admin.py` we also register the model to admin"
   ]
  },
  {
   "cell_type": "code",
   "execution_count": null,
   "metadata": {},
   "outputs": [],
   "source": [
    "admin.site.register(models.Journalist)"
   ]
  },
  {
   "attachments": {},
   "cell_type": "markdown",
   "metadata": {},
   "source": [
    "Then we'll need to remove the current database file to create a new one. The Django will help us to create a new database file with empty content. So no need to worry. <br> After that, do the <b><i>`makemigrations`</i></b> rituals, <i>`creatsuperuser`</i>,...<br>\n",
    "Now create a new class `JournalistSerializer` in `api/serializers.py`, above `ArticleSerializer` class"
   ]
  },
  {
   "cell_type": "code",
   "execution_count": null,
   "metadata": {},
   "outputs": [],
   "source": [
    "\n",
    "class JournalistSerializer(serializers.ModelSerializer):\n",
    "    \n",
    "    class Meta:\n",
    "        model = Journalist\n",
    "        fields = \"__all__\" # we want all the fields of our model to be serialized\n",
    "        "
   ]
  },
  {
   "attachments": {},
   "cell_type": "markdown",
   "metadata": {},
   "source": [
    "Add `author` as new custom field to `ArticleSerializer`. So now it would be like this:"
   ]
  },
  {
   "cell_type": "code",
   "execution_count": null,
   "metadata": {},
   "outputs": [],
   "source": [
    "        \n",
    "class ArticleSerializer(serializers.ModelSerializer):\n",
    "    time_since_publication = serializers.SerializerMethodField(method_name=\"since_publication\")\n",
    "    author = JournalistSerializer()\n",
    "    \n",
    "    class Meta:\n",
    "        model = Article\n",
    "        # fields = \"__all__\" # we want all the fields of our model to be serialized\n",
    "        # fields = (\"title\", \"description\") # we want only some of fields of our model to be serialized\n",
    "        exclude = (\"id\",) # we want to serialize all of fields except \"id\"\n",
    "\n",
    "    def since_publication(self, object: Article) -> str: \n",
    "        publication_date = object.publication_date\n",
    "        now = datetime.now()\n",
    "        time_data = timesince(publication_date, now)\n",
    "        return time_data"
   ]
  }
 ],
 "metadata": {
  "kernelspec": {
   "display_name": "venv",
   "language": "python",
   "name": "python3"
  },
  "language_info": {
   "name": "python",
   "version": "3.9.6"
  },
  "orig_nbformat": 4
 },
 "nbformat": 4,
 "nbformat_minor": 2
}
