{
 "cells": [
  {
   "attachments": {},
   "cell_type": "markdown",
   "metadata": {},
   "source": [
    "Setup environment"
   ]
  },
  {
   "cell_type": "code",
   "execution_count": null,
   "metadata": {
    "vscode": {
     "languageId": "shellscript"
    }
   },
   "outputs": [],
   "source": [
    "python3 -m venv venv # setup environment\n",
    "source venv/bin/activate # activate environment\n",
    "pip install django # install django framework\n",
    "pip install djangorestframework # install django rest framework"
   ]
  },
  {
   "attachments": {},
   "cell_type": "markdown",
   "metadata": {},
   "source": [
    "Create a new project name `ebooksapi`"
   ]
  },
  {
   "cell_type": "code",
   "execution_count": null,
   "metadata": {
    "vscode": {
     "languageId": "shellscript"
    }
   },
   "outputs": [],
   "source": [
    "django-admin startproject ebooksapi"
   ]
  },
  {
   "attachments": {},
   "cell_type": "markdown",
   "metadata": {},
   "source": [
    "Create new app name `ebooks`"
   ]
  },
  {
   "cell_type": "code",
   "execution_count": null,
   "metadata": {
    "vscode": {
     "languageId": "shellscript"
    }
   },
   "outputs": [],
   "source": [
    "python manage.py startapp ebooks"
   ]
  },
  {
   "attachments": {},
   "cell_type": "markdown",
   "metadata": {},
   "source": [
    "Add the app name into the `INSTALLED_APPS` array in `ebooksapi/settings.py` file"
   ]
  },
  {
   "cell_type": "code",
   "execution_count": null,
   "metadata": {},
   "outputs": [],
   "source": [
    "# Application definition\n",
    "\n",
    "INSTALLED_APPS = [\n",
    "    'django.contrib.admin',\n",
    "    'django.contrib.auth',\n",
    "    'django.contrib.contenttypes',\n",
    "    'django.contrib.sessions',\n",
    "    'django.contrib.messages',\n",
    "    'django.contrib.staticfiles',\n",
    "    'rest_framework',\n",
    "    'ebooks'\n",
    "]"
   ]
  },
  {
   "attachments": {},
   "cell_type": "markdown",
   "metadata": {},
   "source": [
    "Create new classes in `ebooks/models.py` file\n"
   ]
  },
  {
   "cell_type": "code",
   "execution_count": null,
   "metadata": {},
   "outputs": [],
   "source": [
    "from django.db import models\n",
    "from django.core.validators import *\n",
    "# Create your models here.\n",
    "class Ebook(models.Model):\n",
    "    title = models.CharField(max_length=200)\n",
    "    author = models.CharField(max_length=200)\n",
    "    description = models.TextField()\n",
    "    publication_date = models.DateField()\n",
    "    created_date = models.DateTimeField(auto_now_add=True)\n",
    "    updated_date = models.DateTimeField(auto_now=True)\n",
    "    \n",
    "    def __str__(self) -> str:\n",
    "        return f\"{self.title} - {self.author}\"\n",
    "    \n",
    "class Review(models.Model):\n",
    "    created_date = models.DateTimeField(auto_now_add=True)\n",
    "    updated_date = models.DateTimeField(auto_now=True)\n",
    "    review_author = models.CharField(max_length=10, blank=True, null=True)\n",
    "    review = models.TextField(blank=True, null=True)\n",
    "    rating = models.PositiveIntegerField(validators=[MinValueValidator(1), MaxValueValidator(5)])\n",
    "    ebook = models.ForeignKey(Ebook, on_delete=models.CASCADE, related_name=\"reviews\")\n",
    "    \n",
    "    \n",
    "    def __str__(self) -> str:\n",
    "        return f\"{self.rating}\""
   ]
  },
  {
   "attachments": {},
   "cell_type": "markdown",
   "metadata": {},
   "source": [
    "Run the commands to make migrations in database"
   ]
  },
  {
   "cell_type": "code",
   "execution_count": null,
   "metadata": {
    "vscode": {
     "languageId": "shellscript"
    }
   },
   "outputs": [],
   "source": [
    "python manage.py makemigrations\n",
    "python manage.py migrate"
   ]
  },
  {
   "attachments": {},
   "cell_type": "markdown",
   "metadata": {},
   "source": [
    "Run command to create super user and setup `superuser account` in `admin page`\n",
    "Command will create a `admin.py` file  in `news` folder"
   ]
  },
  {
   "cell_type": "code",
   "execution_count": null,
   "metadata": {
    "vscode": {
     "languageId": "shellscript"
    }
   },
   "outputs": [],
   "source": [
    "python manage.py createsuperuser # command will create a `admin.py` file  in `news` folder"
   ]
  },
  {
   "attachments": {},
   "cell_type": "markdown",
   "metadata": {},
   "source": [
    "In `news/admin.py` add following code to register our models to `admin page`"
   ]
  },
  {
   "cell_type": "code",
   "execution_count": null,
   "metadata": {
    "vscode": {
     "languageId": "shellscript"
    }
   },
   "outputs": [],
   "source": [
    "from newsapi.news import models\n",
    "\n",
    "# Register your models here.\n",
    "admin.site.register(models.Review)\n",
    "admin.site.register(models.Ebook)"
   ]
  },
  {
   "attachments": {},
   "cell_type": "markdown",
   "metadata": {
    "vscode": {
     "languageId": "shellscript"
    }
   },
   "source": [
    "Create new folder `api` in `ebooks`, and new file `serializers.py`. Add these content to the file"
   ]
  },
  {
   "cell_type": "code",
   "execution_count": null,
   "metadata": {},
   "outputs": [],
   "source": [
    "from rest_framework import serializers\n",
    "from ebooks.models import Ebook, Review\n",
    "\n",
    "class ReviewSerializer(serializers.ModelSerializer):\n",
    "    class Meta:\n",
    "        model = Review\n",
    "        fields = \"__all__\"\n",
    "        \n",
    "        \n",
    "class EbookSerializer(serializers.ModelSerializer):\n",
    "    reviews = ReviewSerializer(many=True, read_only=True)\n",
    "    class Meta:\n",
    "        model = Ebook\n",
    "        fields = \"__all__\""
   ]
  },
  {
   "attachments": {},
   "cell_type": "markdown",
   "metadata": {},
   "source": [
    " [25] <h2> `GenericAPIView && Mixins`</h2>"
   ]
  },
  {
   "attachments": {},
   "cell_type": "markdown",
   "metadata": {},
   "source": [
    "Create `views.py` and adding this code:"
   ]
  },
  {
   "cell_type": "code",
   "execution_count": null,
   "metadata": {},
   "outputs": [],
   "source": [
    "from rest_framework import generics, mixins\n",
    "\n",
    "from ebooks.models import Ebook\n",
    "from ebooks.api.serializers import EbookSerializer\n",
    "\n",
    "\n",
    "class EbookListCreateApiView(mixins.ListModelMixin,\n",
    "                            mixins.CreateModelMixin, \n",
    "                            generics.GenericAPIView):\n",
    "    queryset = Ebook.objects.all()\n",
    "    serializer_class = EbookSerializer\n",
    "    \n",
    "    def get(self, request, *args, **kwargs):\n",
    "        return self.list(request, *args, **kwargs)\n",
    "    \n",
    "    def post(self, request, *args, **kwargs):\n",
    "        return self.create(request, *args, **kwargs)\n",
    "\n",
    "\n",
    "class EbookDetailApiView(mixins.RetrieveModelMixin,\n",
    "                            mixins.UpdateModelMixin, \n",
    "                            mixins.DestroyModelMixin,\n",
    "                            generics.GenericAPIView):\n",
    "    queryset = Ebook.objects.all()\n",
    "    serializer_class = EbookSerializer\n",
    "    \n",
    "    def get(self, request, *args, **kwargs):\n",
    "        return self.retrieve(request, *args, **kwargs)\n",
    "    \n",
    "    def put(self, request, *args, **kwargs):\n",
    "        return self.update(request, *args, **kwargs)\n",
    "    \n",
    "    def delete(self, request, *args, **kwargs):\n",
    "        return self.destroy(request, *args, **kwargs)\n"
   ]
  },
  {
   "attachments": {},
   "cell_type": "markdown",
   "metadata": {},
   "source": [
    "Create new file `urls.py` in `api` folder"
   ]
  },
  {
   "cell_type": "code",
   "execution_count": null,
   "metadata": {},
   "outputs": [],
   "source": [
    "from django.urls import path\n",
    "from .views import EbookListCreateApiView, EbookDetailApiView\n",
    "\n",
    "\n",
    "urlpatterns = [\n",
    "    path(\"ebooks/\", EbookListCreateApiView.as_view(), name=\"ebook-list\"),\n",
    "    path(\"ebooks/<int:pk>\", EbookDetailApiView.as_view(), name=\"ebook-detail\")\n",
    "]\n"
   ]
  },
  {
   "attachments": {},
   "cell_type": "markdown",
   "metadata": {},
   "source": [
    "Add new line `path(\"api/\", include(\"ebooks.api.urls\"))` into `urlpatterns` of `ebooksapi/ebooksapi/urls.py`, then it will become:"
   ]
  },
  {
   "cell_type": "code",
   "execution_count": null,
   "metadata": {},
   "outputs": [],
   "source": [
    "urlpatterns = [\n",
    "    path('admin/', admin.site.urls),\n",
    "    path(\"api/\", include(\"ebooks.api.urls\"))\n",
    "]"
   ]
  },
  {
   "attachments": {},
   "cell_type": "markdown",
   "metadata": {},
   "source": [
    "Let check the result in `http://127.0.0.1:8000/api/ebooks`"
   ]
  },
  {
   "attachments": {},
   "cell_type": "markdown",
   "metadata": {},
   "source": [
    "[26] <h2>`Concrete View Class`</h2>\n",
    "replace code in `views.py` with the below:"
   ]
  },
  {
   "cell_type": "code",
   "execution_count": null,
   "metadata": {},
   "outputs": [],
   "source": [
    "from rest_framework import generics, mixins\n",
    "\n",
    "from ebooks.models import Ebook\n",
    "from ebooks.api.serializers import EbookSerializer\n",
    "\n",
    "\n",
    "class EbookListCreateApiView(generics.ListCreateAPIView):\n",
    "    queryset = Ebook.objects.all()\n",
    "    serializer_class = EbookSerializer\n",
    "    \n",
    "    \n",
    "class EbookDetailApiView(generics.RetrieveUpdateDestroyAPIView):\n",
    "    queryset = Ebook.objects.all()\n",
    "    serializer_class = EbookSerializer\n",
    "    "
   ]
  },
  {
   "attachments": {},
   "cell_type": "markdown",
   "metadata": {},
   "source": [
    "The api will still function the same.\n",
    "Now we add some more code to handle `Review`. <br>\n",
    "In `views.py` add:"
   ]
  },
  {
   "cell_type": "code",
   "execution_count": null,
   "metadata": {},
   "outputs": [],
   "source": [
    " \n",
    "class ReviewListCreateApiView(generics.ListCreateAPIView):\n",
    "    queryset = Review.objects.all()\n",
    "    serializer_class = ReviewSerializer\n",
    "    \n",
    "    def perform_create(self, serializer):\n",
    "        ebook_pk = self.kwargs.get(\"ebook_pk\")\n",
    "        ebook = generics.get_object_or_404(Ebook, pk=ebook_pk)\n",
    "        serializer.save(ebook=ebook)\n",
    "        \n",
    "    \n",
    "class ReviewDetailApiView(generics.RetrieveUpdateDestroyAPIView):\n",
    "    queryset = Review.objects.all()\n",
    "    serializer_class = ReviewSerializer"
   ]
  },
  {
   "attachments": {},
   "cell_type": "markdown",
   "metadata": {},
   "source": [
    "Update `ReviewSerializer` class, exclude `ebook` field to manually handle the param."
   ]
  },
  {
   "cell_type": "code",
   "execution_count": null,
   "metadata": {},
   "outputs": [],
   "source": [
    "class ReviewSerializer(serializers.ModelSerializer):\n",
    "    class Meta:\n",
    "        model = Review\n",
    "        # fields = \"__all__\"\n",
    "        exclude = (\"ebook\",)"
   ]
  },
  {
   "attachments": {},
   "cell_type": "markdown",
   "metadata": {},
   "source": [
    "In `api/urls.py` we add:"
   ]
  },
  {
   "cell_type": "code",
   "execution_count": null,
   "metadata": {},
   "outputs": [],
   "source": [
    "from django.urls import path\n",
    "from .views import EbookListCreateApiView, EbookDetailApiView, ReviewListCreateApiView, ReviewDetailApiView\n",
    "\n",
    "\n",
    "urlpatterns = [\n",
    "    path(\"ebooks/\", EbookListCreateApiView.as_view(), name=\"ebook-list\"),\n",
    "    path(\"ebooks/<int:pk>\", EbookDetailApiView.as_view(), name=\"ebook-detail\"),\n",
    "    path(\"ebooks/<int:ebook_pk>/reviews/\", ReviewListCreateApiView.as_view(), name=\"ebook-review\"),\n",
    "    path(\"reviews/<int:pk>\", ReviewDetailApiView.as_view(), name=\"review-detail\"),\n",
    "]\n"
   ]
  },
  {
   "attachments": {},
   "cell_type": "markdown",
   "metadata": {},
   "source": [
    "Now in browser, let's try to list the `Review` by url GET `http://127.0.0.1:8000/api/ebooks/1/reviews/` or Create new review by POST `http://127.0.0.1:8000/api/ebooks/1/reviews/` the same url <b> <h2>`Permission System`</h2> [1]"
   ]
  },
  {
   "attachments": {},
   "cell_type": "markdown",
   "metadata": {},
   "source": [
    "Restrict all API must be authenticated by adding below dict in `settings.py`"
   ]
  },
  {
   "cell_type": "code",
   "execution_count": null,
   "metadata": {},
   "outputs": [],
   "source": [
    "REST_FRAMEWORK = {\n",
    "    'DEFAULT_PERMISSION_CLASSES': [\n",
    "        'rest_framework.permissions.IsAuthenticated',\n",
    "    ]\n",
    "}"
   ]
  },
  {
   "attachments": {},
   "cell_type": "markdown",
   "metadata": {},
   "source": [
    "Access `/api/ebooks/` on browser will give you the `403` error: \n",
    "`{\n",
    "    \"detail\" : \"Authentication credentials were not provided\"\n",
    "}`\n",
    "<br>\n",
    "<br>\n",
    "Replace the `rest_framework.permissions.IsAuthenticated` with `rest_framework.permissions.IsAuthenticatedOrReadOnly` "
   ]
  },
  {
   "cell_type": "code",
   "execution_count": null,
   "metadata": {},
   "outputs": [],
   "source": [
    "REST_FRAMEWORK = {\n",
    "    'DEFAULT_PERMISSION_CLASSES': [\n",
    "        'rest_framework.permissions.IsAuthenticatedOrReadOnly',\n",
    "    ]\n",
    "}"
   ]
  },
  {
   "attachments": {},
   "cell_type": "markdown",
   "metadata": {},
   "source": [
    "This setting is every useful but it has limitation and lacking flexibility. We will define our own class to handle permission ourself.<br>\n",
    "Create the file `permissions.py` in `api/` folder with content:"
   ]
  },
  {
   "cell_type": "code",
   "execution_count": null,
   "metadata": {},
   "outputs": [],
   "source": [
    "from rest_framework import permissions\n",
    "\n",
    "class IsAdminUserOrReadOnly(permissions.IsAdminUser):\n",
    "    def has_permission(self, request, view):\n",
    "        is_admin = super().has_permission(request, view) # check if the current request was sent by an admin?\n",
    "        \n",
    "        return request.method in permissions.SAFE_METHODS or is_admin # allow access if the method is safe to access, or the user is an admin`"
   ]
  },
  {
   "attachments": {},
   "cell_type": "markdown",
   "metadata": {},
   "source": [
    "`Create a standard user to limit the privilege of a user (for demostration)`"
   ]
  },
  {
   "attachments": {},
   "cell_type": "markdown",
   "metadata": {},
   "source": [
    "Modify the file `api/views.py`"
   ]
  },
  {
   "cell_type": "code",
   "execution_count": null,
   "metadata": {},
   "outputs": [],
   "source": [
    "...\n",
    "from ebooks.api.serializers import EbookSerializer, ReviewSerializer\n",
    "from ebooks.api.permissions import IsAdminUserOrReadOnly\n",
    "\n",
    "class EbookListCreateApiView(generics.ListCreateAPIView):\n",
    "    queryset = Ebook.objects.all()\n",
    "    serializer_class = EbookSerializer\n",
    "    permission_classes = [IsAdminUserOrReadOnly]\n",
    "    \n",
    "    \n",
    "class EbookDetailApiView(generics.RetrieveUpdateDestroyAPIView):\n",
    "    queryset = Ebook.objects.all()\n",
    "    serializer_class = EbookSerializer\n",
    "    permission_classes = [IsAdminUserOrReadOnly]\n",
    "    \n",
    "..."
   ]
  },
  {
   "attachments": {},
   "cell_type": "markdown",
   "metadata": {},
   "source": [
    "Logout the `admin` user and login again by new standard user just created."
   ]
  },
  {
   "attachments": {},
   "cell_type": "markdown",
   "metadata": {},
   "source": [
    "[2] Continuing the discession we have started in the previous lesson, we are now going to see how to secure our `review` instances so that they can be updated or deleted only by the same users who have created them. <br> In order to do so we will first need to modify our `Review` model, binding it to Django's User model using a ForeignKey field."
   ]
  },
  {
   "attachments": {},
   "cell_type": "markdown",
   "metadata": {},
   "source": [
    "In `models.py` we add `from django.contrib.auth.models import User`. We also change the type of `review_author` property"
   ]
  },
  {
   "cell_type": "code",
   "execution_count": null,
   "metadata": {},
   "outputs": [],
   "source": [
    "from django.contrib.auth.models import User\n",
    "...\n",
    "class Review(models.Model):\n",
    "    review_author = models.ForeignKey(User, on_delete=models.CASCADE) #\n",
    "..."
   ]
  },
  {
   "cell_type": "code",
   "execution_count": null,
   "metadata": {
    "vscode": {
     "languageId": "bat"
    }
   },
   "outputs": [],
   "source": [
    "(venv) VNBDEPMLTP416:ebooksapi sungpham$ python manage.py makemigrations\n",
    "It is impossible to change a nullable field 'review_author' on review to non-nullable without providing a default. This is because the database needs something to populate existing rows.\n",
    "Please select a fix:\n",
    " 1) Provide a one-off default now (will be set on all existing rows with a null value for this column)\n",
    " 2) Ignore for now. Existing rows that contain NULL values will have to be handled manually, for example with a RunPython or RunSQL operation.\n",
    " 3) Quit and manually define a default value in models.py.\n",
    "Select an option: __"
   ]
  },
  {
   "attachments": {},
   "cell_type": "markdown",
   "metadata": {},
   "source": [
    "Enter `1`"
   ]
  },
  {
   "attachments": {},
   "cell_type": "markdown",
   "metadata": {},
   "source": [
    "Modify all the conflictions...<br>\n",
    "Add to the `ReviewSerializer` class:"
   ]
  },
  {
   "cell_type": "code",
   "execution_count": null,
   "metadata": {},
   "outputs": [],
   "source": [
    "...\n",
    "class ReviewSerializer(serializers.ModelSerializer):\n",
    "    review_author = serializers.StringRelatedField(read_only=True)\n",
    "    \n",
    "..."
   ]
  },
  {
   "attachments": {},
   "cell_type": "markdown",
   "metadata": {},
   "source": [
    "In `api/views.py`, modify the class `ReviewCreatedAPIView` "
   ]
  },
  {
   "cell_type": "code",
   "execution_count": null,
   "metadata": {},
   "outputs": [],
   "source": [
    "from rest_framework.validators import ValidationError\n",
    "\n",
    "class ReviewCreateApiView(generics.CreateAPIView):\n",
    "    queryset = Review.objects.all()\n",
    "    serializer_class = ReviewSerializer\n",
    "    permission_classes = [permissions.IsAuthenticatedOrReadOnly]\n",
    "    \n",
    "    def perform_create(self, serializer):\n",
    "        ebook_pk = self.kwargs.get(\"ebook_pk\")\n",
    "        ebook = generics.get_object_or_404(Ebook, pk=ebook_pk)\n",
    "        review_author = self.request.user # set the author of the review is the current user\n",
    "        \n",
    "        review_queryset = Review.objects.filter(ebook=ebook, \n",
    "                                                review_author=review_author) # filter the review that belongs to the current user\n",
    "        if review_queryset.exists(): # if the current user has reviewed this book, then raise the exception\n",
    "            raise ValidationError(\"You have already review this book!\")\n",
    "        serializer.save(ebook=ebook, review_author = review_author)\n",
    "        "
   ]
  },
  {
   "attachments": {},
   "cell_type": "markdown",
   "metadata": {},
   "source": [
    "Now go to url on browser `/api/ebooks/2/reviews/`."
   ]
  },
  {
   "attachments": {},
   "cell_type": "markdown",
   "metadata": {},
   "source": [
    "In `permissions.py`, create a new permission class, to check if current user is the author of the review or not?"
   ]
  },
  {
   "cell_type": "code",
   "execution_count": null,
   "metadata": {},
   "outputs": [],
   "source": [
    "class IsReviewAuthorOrReadOnly(permissions.BasePermission):\n",
    "    def has_object_permission(self, request, view, obj):\n",
    "        if request.method in permissions.SAFE_METHODS:\n",
    "            return True\n",
    "        \n",
    "        return obj.review_author == request.user"
   ]
  },
  {
   "attachments": {},
   "cell_type": "markdown",
   "metadata": {},
   "source": [
    "In `api/views.py`, add the permission class above to prevent other user to `DELETE` or `UPDATE` the review:"
   ]
  },
  {
   "cell_type": "code",
   "execution_count": null,
   "metadata": {},
   "outputs": [],
   "source": [
    "    \n",
    "class ReviewDetailApiView(generics.RetrieveUpdateDestroyAPIView):\n",
    "    queryset = Review.objects.all()\n",
    "    serializer_class = ReviewSerializer\n",
    "    permission_classes = [IsReviewAuthorOrReadOnly]"
   ]
  },
  {
   "attachments": {},
   "cell_type": "markdown",
   "metadata": {},
   "source": [
    "[29]<h2>`Pagination`</h2>\n",
    "For a quick set up we just need to add to the `settings.py`"
   ]
  },
  {
   "cell_type": "code",
   "execution_count": null,
   "metadata": {},
   "outputs": [],
   "source": [
    "REST_FRAMEWORK = {\n",
    "    'DEFAULT_PAGINATION_CLASS': 'rest_framework.pagination.LimitOffsetPagination',\n",
    "    'PAGE_SIZE': 3\n",
    "}"
   ]
  },
  {
   "attachments": {},
   "cell_type": "markdown",
   "metadata": {},
   "source": [
    "In real world scenario, we might want to create a new class to better controlling the pagination. Let's comment out the content:"
   ]
  },
  {
   "cell_type": "code",
   "execution_count": null,
   "metadata": {},
   "outputs": [],
   "source": [
    "# REST_FRAMEWORK = {\n",
    "#     'DEFAULT_PAGINATION_CLASS': 'rest_framework.pagination.LimitOffsetPagination',\n",
    "#     'PAGE_SIZE': 3\n",
    "# }"
   ]
  },
  {
   "attachments": {},
   "cell_type": "markdown",
   "metadata": {},
   "source": [
    "Create `paginations.py` in `api` with content:"
   ]
  },
  {
   "cell_type": "code",
   "execution_count": null,
   "metadata": {},
   "outputs": [],
   "source": [
    "from rest_framework.pagination import PageNumberPagination\n",
    "\n",
    "class SmallSetPagination(PageNumberPagination):\n",
    "    page_size = 3"
   ]
  },
  {
   "attachments": {},
   "cell_type": "markdown",
   "metadata": {},
   "source": [
    "Add `SmallSetPagination` into usage in `api/views.py`."
   ]
  },
  {
   "cell_type": "code",
   "execution_count": null,
   "metadata": {},
   "outputs": [],
   "source": [
    "from ebooks.api.paginations import SmallSetPagination\n",
    "\n",
    "class EbookListCreateApiView(generics.ListCreateAPIView):\n",
    "    queryset = Ebook.objects.all()\n",
    "    serializer_class = EbookSerializer\n",
    "    permission_classes = [IsAdminUserOrReadOnly]\n",
    "    pagination_class = SmallSetPagination"
   ]
  }
 ],
 "metadata": {
  "kernelspec": {
   "display_name": "venv",
   "language": "python",
   "name": "python3"
  },
  "language_info": {
   "name": "python",
   "version": "3.9.6"
  },
  "orig_nbformat": 4
 },
 "nbformat": 4,
 "nbformat_minor": 2
}
